{
 "cells": [
  {
   "cell_type": "markdown",
   "id": "70d9c563",
   "metadata": {},
   "source": [
    "#### Json Parsing and processing"
   ]
  },
  {
   "cell_type": "code",
   "execution_count": 4,
   "id": "3abffe71",
   "metadata": {},
   "outputs": [],
   "source": [
    "import json\n",
    "import os\n",
    "os.makedirs('data/json_files', exist_ok=True)\n",
    "\n",
    "\n",
    "json_data = {\n",
    "  \"user\": {\n",
    "    \"id\": 101,\n",
    "    \"name\": \"Alice\",\n",
    "    \"contact\": {\n",
    "      \"email\": \"alice@example.com\",\n",
    "      \"phones\": [\"1234567890\", \"9876543210\"]\n",
    "    }\n",
    "  },\n",
    "  \"action\": \"login\",\n",
    "  \"status\": \"success\"\n",
    "}"
   ]
  },
  {
   "cell_type": "code",
   "execution_count": 5,
   "id": "0059f61f",
   "metadata": {},
   "outputs": [
    {
     "data": {
      "text/plain": [
       "{'user': {'id': 101,\n",
       "  'name': 'Alice',\n",
       "  'contact': {'email': 'alice@example.com',\n",
       "   'phones': ['1234567890', '9876543210']}},\n",
       " 'action': 'login',\n",
       " 'status': 'success'}"
      ]
     },
     "execution_count": 5,
     "metadata": {},
     "output_type": "execute_result"
    }
   ],
   "source": [
    "json_data"
   ]
  },
  {
   "cell_type": "code",
   "execution_count": 6,
   "id": "91f384a7",
   "metadata": {},
   "outputs": [],
   "source": [
    "with open('data/json_files/sample_data.json', 'w') as json_file:\n",
    "    json.dump(json_data, json_file, indent=4)"
   ]
  },
  {
   "cell_type": "markdown",
   "id": "d389e114",
   "metadata": {},
   "source": [
    "### Json processing stratergies"
   ]
  },
  {
   "cell_type": "markdown",
   "id": "ca4b323e",
   "metadata": {},
   "source": []
  },
  {
   "cell_type": "code",
   "execution_count": 23,
   "id": "0a63e9ea",
   "metadata": {},
   "outputs": [
    {
     "name": "stdout",
     "output_type": "stream",
     "text": [
      "Loading JSON with jq schema...\n",
      "Loaded 3 documents with jq schema.\n",
      "[Document(metadata={'source': 'C:\\\\Users\\\\anems\\\\OneDrive\\\\Pictures\\\\Personal\\\\Learning\\\\RAG-BootCamp\\\\0-DataIngestParsing\\\\data\\\\json_files\\\\sample_data.json', 'seq_num': 1}, page_content='101'), Document(metadata={'source': 'C:\\\\Users\\\\anems\\\\OneDrive\\\\Pictures\\\\Personal\\\\Learning\\\\RAG-BootCamp\\\\0-DataIngestParsing\\\\data\\\\json_files\\\\sample_data.json', 'seq_num': 2}, page_content='Alice'), Document(metadata={'source': 'C:\\\\Users\\\\anems\\\\OneDrive\\\\Pictures\\\\Personal\\\\Learning\\\\RAG-BootCamp\\\\0-DataIngestParsing\\\\data\\\\json_files\\\\sample_data.json', 'seq_num': 3}, page_content='{\"email\": \"alice@example.com\", \"phones\": [\"1234567890\", \"9876543210\"]}')]\n"
     ]
    }
   ],
   "source": [
    "from langchain_community.document_loaders import json_loader\n",
    "import json\n",
    "\n",
    "\n",
    "## METHOD 1 JSON LOADER WITH JQ_SCHEMA\n",
    "print(\"Loading JSON with jq schema...\")\n",
    "loader = json_loader.JSONLoader(\n",
    "    file_path='data/json_files/sample_data.json',\n",
    "    jq_schema='.user[]', \n",
    "    text_content=False\n",
    ")\n",
    "documents = loader.load()\n",
    "print(f\"Loaded {len(documents)} documents with jq schema.\")\n",
    "print(documents)\n"
   ]
  }
 ],
 "metadata": {
  "kernelspec": {
   "display_name": "RAG-BootCamp",
   "language": "python",
   "name": "python3"
  },
  "language_info": {
   "name": "python",
   "version": "3.12.7"
  }
 },
 "nbformat": 4,
 "nbformat_minor": 5
}
