{
 "cells": [
  {
   "cell_type": "markdown",
   "id": "6efe80f6",
   "metadata": {},
   "source": [
    "### CSV & EXCEL FILES -Structured Data"
   ]
  },
  {
   "cell_type": "code",
   "execution_count": 2,
   "id": "1971cb1e",
   "metadata": {},
   "outputs": [],
   "source": [
    "import pandas as pd\n",
    "import os\n",
    "\n"
   ]
  },
  {
   "cell_type": "code",
   "execution_count": null,
   "id": "5a2ca27e",
   "metadata": {},
   "outputs": [],
   "source": [
    "\n",
    "# Save DataFrame to CSV\n",
    "\n",
    "os.makedirs(\"data/structured_files\", exist_ok=True)\n",
    "# create sample data\n",
    "df = pd.DataFrame({\n",
    "    'Name': ['Alice', 'Bob', 'Charlie'],\n",
    "    'Age': [25, 30, 35],\n",
    "    'City': ['New York', 'Los Angeles', 'Chicago']\n",
    "})\n",
    "# Save DataFrame to CSV\n",
    "df.to_csv('data/structured_files/sample_data.csv', index=False)"
   ]
  },
  {
   "cell_type": "code",
   "execution_count": null,
   "id": "0a1f725f",
   "metadata": {},
   "outputs": [],
   "source": [
    "# Save DataFrame to excel\n",
    "\n",
    "#create sample data\n",
    "DataFrame = {\n",
    "    'Name': ['Alice', 'Bob', 'Charlie'],\n",
    "    'Age': [25, 30, 35],\n",
    "    'City': ['New York', 'Los Angeles', 'Chicago']\n",
    "}\n",
    "\n",
    "with pd.ExcelWriter('data/structured_files/sample_data.xlsx') as excel_writer:\n",
    "    # create a DataFrame from the sample data\n",
    "    DataFrame = pd.DataFrame(DataFrame)\n",
    "    # Write DataFrame to Excel\n",
    "    DataFrame.to_excel(excel_writer, sheet_name='Sheet1', index=False)\n",
    "   # pd.DataFrame(DataFrame).DataFrame.to_excel(excel_writer, sheet_name='Sheet1', index=False)\n"
   ]
  },
  {
   "cell_type": "code",
   "execution_count": 10,
   "id": "5ffe4f5d",
   "metadata": {},
   "outputs": [],
   "source": [
    "# Save as Excel file with multiple sheets\n",
    "with pd.ExcelWriter('data/structured_files/sample_data_multiple_sheets.xlsx') as excel_writer:\n",
    "    # create a DataFrame from the sample data\n",
    "    DataFrame = pd.DataFrame(DataFrame)\n",
    "    # Write DataFrame to Excel\n",
    "    DataFrame.to_excel(excel_writer, sheet_name='Sheet1', index=False)\n",
    "    DataFrame.to_excel(excel_writer, sheet_name='Sheet2', index=False)"
   ]
  },
  {
   "cell_type": "markdown",
   "id": "8ae5e609",
   "metadata": {},
   "source": [
    "### CSV PROCESSING"
   ]
  },
  {
   "cell_type": "code",
   "execution_count": null,
   "id": "06a094cd",
   "metadata": {},
   "outputs": [
    {
     "name": "stdout",
     "output_type": "stream",
     "text": [
      "Loaded 3 documents from CSV file ONE PER ROW .\n",
      "Document 1:\n",
      "Content: Name: Alice\n",
      "Age: 25\n",
      "City: New York\n",
      "Metadata: {'source': 'data/structured_files/sample_data.csv', 'row': 0}\n",
      "Document 2:\n",
      "Content: Name: Bob\n",
      "Age: 30\n",
      "City: Los Angeles\n",
      "Metadata: {'source': 'data/structured_files/sample_data.csv', 'row': 1}\n",
      "Document 3:\n",
      "Content: Name: Charlie\n",
      "Age: 35\n",
      "City: Chicago\n",
      "Metadata: {'source': 'data/structured_files/sample_data.csv', 'row': 2}\n",
      "Loaded 3 documents from Excel file ONE PER COLUMN.\n",
      "Document 1:\n",
      "Content: Name: Alice\n",
      "Age: 25\n",
      "City: New York\n",
      "Metadata: {'source': 'data/structured_files/sample_data.CSV  ', 'row': 0}\n",
      "Document 2:\n",
      "Content: Name: Bob\n",
      "Age: 30\n",
      "City: Los Angeles\n",
      "Metadata: {'source': 'data/structured_files/sample_data.CSV  ', 'row': 1}\n",
      "Document 3:\n",
      "Content: Name: Charlie\n",
      "Age: 35\n",
      "City: Chicago\n",
      "Metadata: {'source': 'data/structured_files/sample_data.CSV  ', 'row': 2}\n"
     ]
    }
   ],
   "source": [
    "from langchain_community.document_loaders import CSVLoader, UnstructuredCSVLoader\n",
    "\n",
    "\n",
    "#METHOD 1: EACH ROW AS A DOCUMENT\n",
    "csv_loader = loaders.CSVLoader(file_path='data/structured_files/sample_data.csv', csv_args={'delimiter': ',', 'quotechar': '\"'})\n",
    "csv_documents = csv_loader.load()\n",
    "print(f\"Loaded {len(csv_documents)} documents from CSV file ONE PER ROW .\")\n",
    "for i, doc in enumerate(csv_documents[:3]):\n",
    "    print(f\"Document {i+1}:\")\n",
    "    print(f\"Content: {doc.page_content}\")\n",
    "    print(f\"Metadata: {doc.metadata}\")\n",
    "\n",
    "\n",
    "\n"
   ]
  },
  {
   "cell_type": "code",
   "execution_count": null,
   "id": "e3c49675",
   "metadata": {},
   "outputs": [],
   "source": [
    "#METHOD 2: UnstructuredCSVLoader\n",
    "unstructured_csv_loader = UnstructuredCSVLoader(file_path='data/structured_files/sample_data.csv', csv_args={'delimiter': ',', 'quotechar': '\"'})\n",
    "unstructured_csv_documents = unstructured_csv_loader.load()\n",
    "print(f\"Loaded {len(unstructured_csv_documents)} documents from CSV file using UnstructuredCSV\n",
    "Loader.\")\n",
    "for i, doc in enumerate(unstructured_csv_documents[:3]):\n",
    "    print(f\"Document {i+1}:\")\n",
    "    print(f\"Content: {doc.page_content}\")\n",
    "    print(f\"Metadata: {doc.metadata}\")\n"
   ]
  },
  {
   "cell_type": "code",
   "execution_count": 32,
   "id": "2df9412a",
   "metadata": {},
   "outputs": [
    {
     "name": "stdout",
     "output_type": "stream",
     "text": [
      "Loaded 3 documents using CustomCSVLoader.\n",
      "Document 1:\n",
      "Content: Alice 25 New York\n",
      "Metadata: {'Name': 'Alice', 'Age': 25, 'City': 'New York'}\n",
      "Document 2:\n",
      "Content: Bob 30 Los Angeles\n",
      "Metadata: {'Name': 'Bob', 'Age': 30, 'City': 'Los Angeles'}\n",
      "Document 3:\n",
      "Content: Charlie 35 Chicago\n",
      "Metadata: {'Name': 'Charlie', 'Age': 35, 'City': 'Chicago'}\n"
     ]
    }
   ],
   "source": [
    "#custom CSV loader processing for better handling of structured data\n",
    "from typing import List\n",
    "from langchain_core.documents import Document\n",
    "import pandas as pd\n",
    "class CustomCSVLoader:\n",
    "    def __init__(self, file_path):\n",
    "        self.file_path = file_path\n",
    "\n",
    "    def load(self):\n",
    "        df = pd.read_csv(self.file_path)\n",
    "        documents = []\n",
    "        #Strategy 1 One document per row with Strutured content\n",
    "        # Iterate through each row in the DataFrame \n",
    "        for index, row in df.iterrows():\n",
    "            content = ' '.join([str(value) for value in row.values])\n",
    "            metadata = {col: row[col] for col in df.columns}\n",
    "            documents.append(Document(page_content=content, metadata=metadata))\n",
    "        return documents\n",
    "# Load CSV file using custom loader\n",
    "loader = CustomCSVLoader(file_path='data/structured_files/sample_data.csv')\n",
    "documents = loader.load()\n",
    "print(f\"Loaded {len(documents)} documents using CustomCSVLoader.\")\n",
    "for i, doc in enumerate(documents[:3]):\n",
    "    print(f\"Document {i+1}:\")\n",
    "    print(f\"Content: {doc.page_content}\")\n",
    "    print(f\"Metadata: {doc.metadata}\")"
   ]
  },
  {
   "cell_type": "markdown",
   "id": "753f4c04",
   "metadata": {},
   "source": [
    "### Excel Procssing "
   ]
  },
  {
   "cell_type": "code",
   "execution_count": 36,
   "id": "8da8f181",
   "metadata": {},
   "outputs": [
    {
     "name": "stdout",
     "output_type": "stream",
     "text": [
      "Loaded 3 documents using CustomExcelLoader.\n",
      "Document 1:\n",
      "Content: Alice 25 New York\n",
      "Metadata: {'Name': 'Alice', 'Age': 25, 'City': 'New York'}\n",
      "Document 2:\n",
      "Content: Bob 30 Los Angeles\n",
      "Metadata: {'Name': 'Bob', 'Age': 30, 'City': 'Los Angeles'}\n",
      "Document 3:\n",
      "Content: Charlie 35 Chicago\n",
      "Metadata: {'Name': 'Charlie', 'Age': 35, 'City': 'Chicago'}\n",
      "Loaded 6 documents from Excel file with multiple sheets using CustomExcelMultiSheetLoader.\n",
      "Document 1:\n",
      "Content: Alice 25 New York\n",
      "Metadata: {'Name': 'Alice', 'Age': 25, 'City': 'New York', 'sheet_name': 'Sheet1'}\n",
      "Sheet Name: Sheet1\n",
      "Document 2:\n",
      "Content: Bob 30 Los Angeles\n",
      "Metadata: {'Name': 'Bob', 'Age': 30, 'City': 'Los Angeles', 'sheet_name': 'Sheet1'}\n",
      "Sheet Name: Sheet1\n",
      "Document 3:\n",
      "Content: Charlie 35 Chicago\n",
      "Metadata: {'Name': 'Charlie', 'Age': 35, 'City': 'Chicago', 'sheet_name': 'Sheet1'}\n",
      "Sheet Name: Sheet1\n"
     ]
    }
   ],
   "source": [
    "#Method 1 using pandas for ful control\n",
    "import pandas as pd\n",
    "# Load xlsx file using pandas\n",
    "class CustomExcelLoader:\n",
    "    def __init__(self, file_path, sheet_name='Sheet1'):\n",
    "        self.file_path = file_path\n",
    "        self.sheet_name = sheet_name\n",
    "\n",
    "    def load(self) -> List[Document]:\n",
    "        df = pd.read_excel(self.file_path, sheet_name=self.sheet_name)\n",
    "        documents = []\n",
    "        # Iterate through each row in the DataFrame\n",
    "        for index, row in df.iterrows():\n",
    "            content = ' '.join([str(value) for value in row.values])\n",
    "            metadata = {col: row[col] for col in df.columns}\n",
    "            documents.append(Document(page_content=content, metadata=metadata))\n",
    "        return documents\n",
    "\n",
    "# Load Excel file using custom loader\n",
    "excel_loader = CustomExcelLoader(file_path='data/structured_files/sample_data.xlsx', sheet_name='Sheet1')\n",
    "excel_documents = excel_loader.load()\n",
    "print(f\"Loaded {len(excel_documents)} documents using CustomExcelLoader.\")\n",
    "for i, doc in enumerate(excel_documents[:3]):\n",
    "    print(f\"Document {i+1}:\")\n",
    "    print(f\"Content: {doc.page_content}\")\n",
    "    print(f\"Metadata: {doc.metadata}\")\n",
    "\n",
    "#loading each sheet as a separate document\n",
    "class CustomExcelMultiSheetLoader:\n",
    "    def __init__(self, file_path):\n",
    "        self.file_path = file_path\n",
    "\n",
    "    def load(self) -> List[Document]:\n",
    "        xls = pd.ExcelFile(self.file_path)\n",
    "        documents = []\n",
    "        for sheet_name in xls.sheet_names:\n",
    "            df = pd.read_excel(xls, sheet_name=sheet_name)\n",
    "            for index, row in df.iterrows():\n",
    "                content = ' '.join([str(value) for value in row.values])\n",
    "                metadata = {col: row[col] for col in df.columns}\n",
    "                metadata['sheet_name'] = sheet_name\n",
    "                documents.append(Document(page_content=content, metadata=metadata))\n",
    "        return documents\n",
    "# Load Excel file with multiple sheets using custom loader\n",
    "multi_sheet_loader = CustomExcelMultiSheetLoader(file_path='data/structured_files/sample_data_multiple_sheets.xlsx')\n",
    "multi_sheet_documents = multi_sheet_loader.load()\n",
    "print(f\"Loaded {len(multi_sheet_documents)} documents from Excel file with multiple sheets using CustomExcelMultiSheetLoader.\")\n",
    "for i, doc in enumerate(multi_sheet_documents[:3]):\n",
    "    print(f\"Document {i+1}:\")\n",
    "    print(f\"Content: {doc.page_content}\")\n",
    "    print(f\"Metadata: {doc.metadata}\")\n",
    "    print(f\"Sheet Name: {doc.metadata.get('sheet_name', 'N/A')}\")\n",
    "    "
   ]
  },
  {
   "cell_type": "markdown",
   "id": "c89e4932",
   "metadata": {},
   "source": [
    "### Unstructure excel loader"
   ]
  },
  {
   "cell_type": "code",
   "execution_count": 46,
   "id": "917e6129",
   "metadata": {},
   "outputs": [
    {
     "name": "stdout",
     "output_type": "stream",
     "text": [
      "Loaded 1 documents from Excel file using UnstructuredExcelLoader.\n",
      "\n",
      "--- Document 1 ---\n",
      "Content:\n",
      "Name Age City Alice 25 New York Bob 30 Los Angeles Charlie 35 Chicago\n",
      "\n",
      "Name Age City Alice 25 New York Bob 30 Los Angeles Charlie 35 Chicago...\n",
      "Metadata: {'source': 'data/structured_files/sample_data_multiple_sheets.xlsx'}\n",
      "\n"
     ]
    }
   ],
   "source": [
    "# Unstructured Excel Loader\n",
    "from langchain_community.document_loaders import UnstructuredExcelLoader\n",
    "try:\n",
    "    # Load the Excel file using UnstructuredExcelLoader\n",
    "    unstructured_excel_loader = UnstructuredExcelLoader(\n",
    "        file_path=\"data/structured_files/sample_data_multiple_sheets.xlsx\"\n",
    "    )\n",
    "    unstructured_excel_documents = unstructured_excel_loader.load()\n",
    "\n",
    "    print(f\"Loaded {len(unstructured_excel_documents)} documents from Excel file using UnstructuredExcelLoader.\\n\")\n",
    "\n",
    "    # Show first 3 docs for inspection\n",
    "    for i, doc in enumerate(unstructured_excel_documents[:3], start=1):\n",
    "        print(f\"--- Document {i} ---\")\n",
    "        print(f\"Content:\\n{doc.page_content[:500]}...\")  # only preview first 500 chars\n",
    "        print(f\"Metadata: {doc.metadata}\\n\")\n",
    "except Exception as e:\n",
    "    print(f\"Error loading documents with UnstructuredExcelLoader: {e}\")\n",
    "    \n",
    "\n"
   ]
  }
 ],
 "metadata": {
  "kernelspec": {
   "display_name": "RAG-BootCamp",
   "language": "python",
   "name": "python3"
  },
  "language_info": {
   "codemirror_mode": {
    "name": "ipython",
    "version": 3
   },
   "file_extension": ".py",
   "mimetype": "text/x-python",
   "name": "python",
   "nbconvert_exporter": "python",
   "pygments_lexer": "ipython3",
   "version": "3.12.7"
  }
 },
 "nbformat": 4,
 "nbformat_minor": 5
}
