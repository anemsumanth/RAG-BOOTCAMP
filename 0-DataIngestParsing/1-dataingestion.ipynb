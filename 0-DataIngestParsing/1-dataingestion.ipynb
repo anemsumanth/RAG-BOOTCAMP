{
 "cells": [
  {
   "cell_type": "markdown",
   "id": "a3d9f733",
   "metadata": {},
   "source": [
    "intro to data ingestion and parsing"
   ]
  },
  {
   "cell_type": "code",
   "execution_count": 65,
   "id": "331e2971",
   "metadata": {},
   "outputs": [],
   "source": [
    "import os\n",
    "from typing import List, Dict, Any\n",
    "import pandas as pd\n",
    "\n"
   ]
  },
  {
   "cell_type": "code",
   "execution_count": 66,
   "id": "c1ed3699",
   "metadata": {},
   "outputs": [
    {
     "name": "stdout",
     "output_type": "stream",
     "text": [
      "Text splitters imported successfully.\n",
      "setup comompleted successfully.\n"
     ]
    }
   ],
   "source": [
    "from langchain_core.documents import Document   \n",
    "from langchain.text_splitter import(\n",
    "    RecursiveCharacterTextSplitter,\n",
    "    CharacterTextSplitter,\n",
    "    MarkdownHeaderTextSplitter,\n",
    "    MarkdownTextSplitter,\n",
    "    TextSplitter,\n",
    "    TokenTextSplitter\n",
    ")\n",
    "print(\"Text splitters imported successfully.\")\n",
    "print(\"setup comompleted successfully.\")"
   ]
  },
  {
   "cell_type": "markdown",
   "id": "c8e57d87",
   "metadata": {},
   "source": [
    "### Understand document structure in langchain"
   ]
  },
  {
   "cell_type": "code",
   "execution_count": 67,
   "id": "4d0656e5",
   "metadata": {},
   "outputs": [
    {
     "name": "stdout",
     "output_type": "stream",
     "text": [
      "Document Structure.\n",
      "content: This is a sample document. It contains multiple sentences. The purpose is to demonstrate text splitting. Each sentence will be treated as a separate chunk.\n",
      "metadata: {'source': 'sample_document.txt', 'date': '2025-08-16', 'page_number': 1, 'author': 'sumanth anem', 'custom_field': 'any_value'}\n"
     ]
    }
   ],
   "source": [
    "### crete a simple document\n",
    "doc = Document(\n",
    "    page_content=\"This is a sample document. It contains multiple sentences. \"\n",
    "                 \"The purpose is to demonstrate text splitting. \"\n",
    "                    \"Each sentence will be treated as a separate chunk.\",\n",
    "    metadata={\n",
    "        \"source\": \"sample_document.txt\",\n",
    "        \"date\": \"2025-08-16\",\n",
    "        \"page_number\": 1,\n",
    "        \"author\": \"sumanth anem\",\n",
    "        \"custom_field\":\"any_value\"\n",
    "    }\n",
    ")\n",
    "print(\"Document Structure.\")\n",
    "print (f\"content: {doc.page_content}\")\n",
    "print (f\"metadata: {doc.metadata}\")"
   ]
  },
  {
   "cell_type": "markdown",
   "id": "5d32050d",
   "metadata": {},
   "source": [
    "###Textfiles (.txt) reading and creating textfiles\n"
   ]
  },
  {
   "cell_type": "code",
   "execution_count": 82,
   "id": "9bec9582",
   "metadata": {},
   "outputs": [],
   "source": [
    "import os\n",
    "os.makedirs(\"data/text_files\", exist_ok=True)\n",
    "os.makedirs(\"data/pdf\", exist_ok=True)\n",
    "os.makedirs(\"data/word_files\", exist_ok=True)"
   ]
  },
  {
   "cell_type": "code",
   "execution_count": 69,
   "id": "a6c73ede",
   "metadata": {},
   "outputs": [
    {
     "name": "stdout",
     "output_type": "stream",
     "text": [
      "Created file: data/text_files/mcp.txt\n"
     ]
    }
   ],
   "source": [
    "sample_text = {\n",
    "    \"data/text_files/mcp.txt\":\"\"\"\n",
    "Let’s talk about MCP server — but just to clarify, \"MCP\" can mean di    fferent things depending on context (networking, Splunk, databases, gaming, etc.).\n",
    "I’ll give you a breakdown of the most common meanings, and you can tell me which one you’re after:\n",
    "\n",
    "1. MCP in Splunk / Observability Context\n",
    "\n",
    "MCP (Mission Control Platform) is sometimes used to describe Splunk’s centralized server/service orchestration in SOAR or Observability products.\n",
    "\n",
    "It acts like a control plane — managing data flows, orchestration of tasks, and communication between distributed components.\n",
    "\n",
    "Think of it as the \"brain\" that schedules and directs activity across different Splunk instances.\n",
    "\n",
    "🔹 2. MCP in Networking (Media Control Protocol / Management Control Protocol)\n",
    "\n",
    "In networking, MCP often refers to Management Control Protocols or Media Control Protocols.\n",
    "\n",
    "Example: PPP (Point-to-Point Protocol) has multiple MCPs that negotiate features like IP, IPv6, authentication, compression, etc.\n",
    "\n",
    "An MCP server in this sense manages those negotiations or acts as a control endpoint.\n",
    "\n",
    "🔹 3. MCP in Gaming (Minecraft Server Context)\n",
    "\n",
    "Sometimes \"MCP\" is shorthand for Minecraft Coder Pack or Minecraft Protocol.\n",
    "\n",
    "An MCP server could mean a Minecraft Protocol-compatible server, which implements the game’s networking protocol without running the official Mojang server software (common in custom server projects).\n",
    "\n",
    "🔹 4. MCP in Enterprise Systems\n",
    "\n",
    "Some vendors use MCP = Master Control Program (borrowed from TRON 😅).\n",
    "\n",
    "It refers to the main orchestration/control server in large enterprise setups that coordinates sub-systems.\n",
    "\n",
    "👉 To guide better:\n",
    "Do you mean MCP server in Splunk/observability, in networking protocols, or in gaming (Minecraft)?\n",
    "\"\"\"\n",
    "}\n",
    "\n",
    "for file_path, content in sample_text.items():\n",
    "    with open(file_path, \"w\", encoding=\"utf-8\") as file:\n",
    "        file.write(content)\n",
    "    print(f\"Created file: {file_path}\")"
   ]
  },
  {
   "cell_type": "markdown",
   "id": "43bf37fe",
   "metadata": {},
   "source": [
    "#### TestLoader -- Read single file "
   ]
  },
  {
   "cell_type": "code",
   "execution_count": 70,
   "id": "a922efb5",
   "metadata": {},
   "outputs": [
    {
     "name": "stdout",
     "output_type": "stream",
     "text": [
      "Loaded 1 document(s) from data/text_files/mcp.txt\n",
      "Document content: \n",
      "Let’s talk about MCP server — but just to clarify, \"MCP\" can mean di    fferent things depending on...\n",
      "Document metadata: {'source': 'data/text_files/mcp.txt'}\n"
     ]
    }
   ],
   "source": [
    "from langchain.document_loaders import TextLoader\n",
    "from langchain_community.document_loaders import TextLoader\n",
    "\n",
    "class TestLoader(TextLoader):\n",
    "    \"\"\"Test Loader to read a single file.\"\"\"\n",
    "\n",
    "    def __init__(self, file_path: str, encoding: str = \"utf-8\"):\n",
    "        super().__init__(file_path, encoding=encoding)\n",
    "\n",
    "    def load(self) -> List[Document]:\n",
    "        \"\"\"Load a single file and return it as a list of Document.\"\"\"\n",
    "        documents = super().load()\n",
    "        return documents\n",
    "\n",
    "loader=TextLoader(\"data/text_files/mcp.txt\", encoding=\"utf-8\")\n",
    "documents= loader.load()\n",
    "print(f\"Loaded {len(documents)} document(s) from {loader.file_path}\")\n",
    "print(f\"Document content: {documents[0].page_content[:100]}...\")  # Print first 100 characters\n",
    "print(f\"Document metadata: {documents[0].metadata}\")"
   ]
  },
  {
   "cell_type": "markdown",
   "id": "3f24cc5f",
   "metadata": {},
   "source": [
    "#### Directory Loader - multiple files"
   ]
  },
  {
   "cell_type": "code",
   "execution_count": 71,
   "id": "be11f4ae",
   "metadata": {},
   "outputs": [
    {
     "name": "stderr",
     "output_type": "stream",
     "text": [
      "100%|██████████| 1/1 [00:00<00:00, 150.72it/s]"
     ]
    },
    {
     "name": "stdout",
     "output_type": "stream",
     "text": [
      "Loaded 1 document(s) from directory data/text_files\n",
      "Document 1:\n",
      "Content: \n",
      "Let’s talk about MCP server — but just to clarify, \"MCP\" can mean di    fferent things depending on...\n",
      "Metadata: {'source': 'data\\\\text_files\\\\mcp.txt'}\n",
      "----------------------------------------\n"
     ]
    },
    {
     "name": "stderr",
     "output_type": "stream",
     "text": [
      "\n"
     ]
    }
   ],
   "source": [
    "#### Directory Loader - multiple files\n",
    "from langchain.document_loaders import DirectoryLoader\n",
    "from langchain_community.document_loaders import DirectoryLoader\n",
    "\n",
    "dir_loader = DirectoryLoader( \n",
    "    path=\"data/text_files\", \n",
    "    glob=\"**/*.txt\", \n",
    "    loader_cls=TextLoader, ##LODER CLASS NAME \"class TestLoader(TextLoader):\"\"\n",
    "    loader_kwargs={'encoding': 'utf-8'},\n",
    "    show_progress=True\n",
    ")\n",
    "\n",
    "documents = dir_loader.load()\n",
    "print(f\"Loaded {len(documents)} document(s) from directory {dir_loader.path}\")\n",
    "for i, doc in enumerate(documents):\n",
    "    print(f\"Document {i+1}:\")\n",
    "    print(f\"Content: {doc.page_content[:100]}...\")  # Print first 100 characters\n",
    "    print(f\"Metadata: {doc.metadata}\")\n",
    "    print(\"-\" * 40)\n",
    "    "
   ]
  },
  {
   "cell_type": "markdown",
   "id": "f760fcaa",
   "metadata": {},
   "source": [
    "### Text spliting stragies "
   ]
  },
  {
   "cell_type": "code",
   "execution_count": 64,
   "id": "c47ab8bb",
   "metadata": {},
   "outputs": [
    {
     "name": "stdout",
     "output_type": "stream",
     "text": [
      "[Document(metadata={'source': 'data\\\\text_files\\\\mcp.txt'}, page_content='\\nLet’s talk about MCP server — but just to clarify, \"MCP\" can mean di    fferent things depending on context (networking, Splunk, databases, gaming, etc.).\\nI’ll give you a breakdown of the most common meanings, and you can tell me which one you’re after:\\n\\n1. MCP in Splunk / Observability Context\\n\\nMCP (Mission Control Platform) is sometimes used to describe Splunk’s centralized server/service orchestration in SOAR or Observability products.\\n\\nIt acts like a control plane — managing data flows, orchestration of tasks, and communication between distributed components.\\n\\nThink of it as the \"brain\" that schedules and directs activity across different Splunk instances.\\n\\n🔹 2. MCP in Networking (Media Control Protocol / Management Control Protocol)\\n\\nIn networking, MCP often refers to Management Control Protocols or Media Control Protocols.\\n\\nExample: PPP (Point-to-Point Protocol) has multiple MCPs that negotiate features like IP, IPv6, authentication, compression, etc.\\n\\nAn MCP server in this sense manages those negotiations or acts as a control endpoint.\\n\\n🔹 3. MCP in Gaming (Minecraft Server Context)\\n\\nSometimes \"MCP\" is shorthand for Minecraft Coder Pack or Minecraft Protocol.\\n\\nAn MCP server could mean a Minecraft Protocol-compatible server, which implements the game’s networking protocol without running the official Mojang server software (common in custom server projects).\\n\\n🔹 4. MCP in Enterprise Systems\\n\\nSome vendors use MCP = Master Control Program (borrowed from TRON 😅).\\n\\nIt refers to the main orchestration/control server in large enterprise setups that coordinates sub-systems.\\n\\n👉 To guide better:\\nDo you mean MCP server in Splunk/observability, in networking protocols, or in gaming (Minecraft)?\\n')]\n",
      "Text to be split: \n",
      "Let’s talk about MCP server — but just to clarify, \"MCP\" can mean di    fferent things depending on...\n",
      "['Let’s talk about MCP server — but just to clarify, \"MCP\" can mean di    fferent things depending on context (networking, Splunk, databases, gaming, etc.).\\nI’ll give you a breakdown of the most common meanings, and you can tell me which one you’re after:\\n\\n1. MCP in Splunk / Observability Context\\n\\nMCP (Mission Control Platform) is sometimes used to describe Splunk’s centralized server/service orchestration in SOAR or Observability products.', 'It acts like a control plane — managing data flows, orchestration of tasks, and communication between distributed components.\\n\\nThink of it as the \"brain\" that schedules and directs activity across different Splunk instances.\\n\\n🔹 2. MCP in Networking (Media Control Protocol / Management Control Protocol)\\n\\nIn networking, MCP often refers to Management Control Protocols or Media Control Protocols.', 'Example: PPP (Point-to-Point Protocol) has multiple MCPs that negotiate features like IP, IPv6, authentication, compression, etc.\\n\\nAn MCP server in this sense manages those negotiations or acts as a control endpoint.\\n\\n🔹 3. MCP in Gaming (Minecraft Server Context)\\n\\nSometimes \"MCP\" is shorthand for Minecraft Coder Pack or Minecraft Protocol.', 'An MCP server could mean a Minecraft Protocol-compatible server, which implements the game’s networking protocol without running the official Mojang server software (common in custom server projects).\\n\\n🔹 4. MCP in Enterprise Systems\\n\\nSome vendors use MCP = Master Control Program (borrowed from TRON 😅).\\n\\nIt refers to the main orchestration/control server in large enterprise setups that coordinates sub-systems.\\n\\n👉 To guide better:', '👉 To guide better:\\nDo you mean MCP server in Splunk/observability, in networking protocols, or in gaming (Minecraft)?']\n",
      "First chunk: Let’s talk about MCP server — but just to clarify, \"MCP\" can mean di    fferent things depending on ...\n",
      "Number of chunks: 5\n",
      "second chunk : It acts like a control plane — managing data flows, orchestration of tasks, and communication betwee\n",
      "Chunk 1:\n",
      "Content: Let’s talk about MCP server — but just to clarify, \"MCP\" can mean di    fferent things depending on ...\n",
      "----------------------------------------\n",
      "Chunk 2:\n",
      "Content: It acts like a control plane — managing data flows, orchestration of tasks, and communication betwee...\n",
      "----------------------------------------\n",
      "Chunk 3:\n",
      "Content: Example: PPP (Point-to-Point Protocol) has multiple MCPs that negotiate features like IP, IPv6, auth...\n",
      "----------------------------------------\n",
      "Chunk 4:\n",
      "Content: An MCP server could mean a Minecraft Protocol-compatible server, which implements the game’s network...\n",
      "----------------------------------------\n",
      "Chunk 5:\n",
      "Content: 👉 To guide better:\n",
      "Do you mean MCP server in Splunk/observability, in networking protocols, or in ga...\n",
      "----------------------------------------\n",
      "['Let’s talk about MCP server — but just to clarify, \"MCP\" can mean di    fferent things depending on context (networking, Splunk, databases, gaming, etc.).\\nI’ll give you a breakdown of the most common meanings, and you can tell me which one you’re after:\\n\\n1. MCP in Splunk / Observability Context\\n\\nMCP (Mission Control Platform) is sometimes used to describe Splunk’s centralized server/service orchestration in SOAR or Observability products.', 'It acts like a control plane — managing data flows, orchestration of tasks, and communication between distributed components.\\n\\nThink of it as the \"brain\" that schedules and directs activity across different Splunk instances.\\n\\n🔹 2. MCP in Networking (Media Control Protocol / Management Control Protocol)\\n\\nIn networking, MCP often refers to Management Control Protocols or Media Control Protocols.', 'Example: PPP (Point-to-Point Protocol) has multiple MCPs that negotiate features like IP, IPv6, authentication, compression, etc.\\n\\nAn MCP server in this sense manages those negotiations or acts as a control endpoint.\\n\\n🔹 3. MCP in Gaming (Minecraft Server Context)\\n\\nSometimes \"MCP\" is shorthand for Minecraft Coder Pack or Minecraft Protocol.', 'An MCP server could mean a Minecraft Protocol-compatible server, which implements the game’s networking protocol without running the official Mojang server software (common in custom server projects).\\n\\n🔹 4. MCP in Enterprise Systems\\n\\nSome vendors use MCP = Master Control Program (borrowed from TRON 😅).\\n\\nIt refers to the main orchestration/control server in large enterprise setups that coordinates sub-systems.', '👉 To guide better:\\nDo you mean MCP server in Splunk/observability, in networking protocols, or in gaming (Minecraft)?']\n",
      "First chunk: Let’s talk about MCP server — but just to clarify, \"MCP\" can mean di    fferent things depending on ...\n",
      "Number of chunks: 5\n",
      "second chunk : It acts like a control plane — managing data flows, orchestration of tasks, and communication betwee\n",
      "Chunk 1:\n",
      "Content: Let’s talk about MCP server — but just to clarify, \"MCP\" can mean di    fferent things depending on ...\n",
      "----------------------------------------\n",
      "Chunk 2:\n",
      "Content: It acts like a control plane — managing data flows, orchestration of tasks, and communication betwee...\n",
      "----------------------------------------\n",
      "Chunk 3:\n",
      "Content: Example: PPP (Point-to-Point Protocol) has multiple MCPs that negotiate features like IP, IPv6, auth...\n",
      "----------------------------------------\n",
      "Chunk 4:\n",
      "Content: An MCP server could mean a Minecraft Protocol-compatible server, which implements the game’s network...\n",
      "----------------------------------------\n",
      "Chunk 5:\n",
      "Content: 👉 To guide better:\n",
      "Do you mean MCP server in Splunk/observability, in networking protocols, or in ga...\n",
      "----------------------------------------\n"
     ]
    }
   ],
   "source": [
    "##Different Text Splitters\n",
    "### Text splitting strategies\n",
    "\n",
    "from langchain.text_splitter import(\n",
    "    RecursiveCharacterTextSplitter,\n",
    "    CharacterTextSplitter,\n",
    "    MarkdownHeaderTextSplitter,\n",
    "    MarkdownTextSplitter,\n",
    "    TextSplitter,\n",
    "    TokenTextSplitter\n",
    ")\n",
    "\n",
    "print(documents)\n",
    "\n",
    "\n",
    "#METHOD  1        CharacterTextSplitter\n",
    "\n",
    "text=documents[0].page_content  # Use the content of the first document for splitting\n",
    "print(f\"Text to be split: {text[:100]}...\")  # Print first\n",
    "\n",
    "\n",
    "\n",
    "\n",
    "\n",
    "\n",
    "CharacterTextSplitter = CharacterTextSplitter(\n",
    "    chunk_size=500,  # Maximum size of each chunk\n",
    "    chunk_overlap=20,  # Overlap between chunks\n",
    "    length_function=len,  # Function to calculate length of text\n",
    "    add_start_index=True,  # Add start index to each chunk\n",
    "    separator=\"\\n\",  # Use newline as separator\n",
    "    keep_separator=True  # Keep the separator in the chunks\n",
    ")   \n",
    "\n",
    "\n",
    "doc=CharacterTextSplitter.split_text(text)\n",
    "print(doc)\n",
    "print(f\"First chunk: {doc[0][:100]}...\")  # Print first 100 characters of the first chunk\n",
    "print(f\"Number of chunks: {len(doc)}\")  # Print number of chunks created\n",
    "print(f\"second chunk : {doc[1][:100]}\")  # Print first 100 characters of the second chunk\n",
    "\n",
    "for i, doc in enumerate(doc):\n",
    "    print(f\"Chunk {i+1}:\")\n",
    "    print(f\"Content: {doc[:100]}...\")  # Print first 100 characters of each chunk\n",
    "    print(\"-\" * 40) \n",
    "\n",
    "\n",
    "\n",
    "\n",
    "\n",
    "\n",
    "\n",
    "#METHOD 2        RecursiveCharacterTextSplitter \n",
    "RecursiveCharacterTextSplitter = RecursiveCharacterTextSplitter(\n",
    "    chunk_size=500,  # Maximum size of each chunk\n",
    "    chunk_overlap=20,  # Overlap between chunks\n",
    "    length_function=len,  # Function to calculate length of text\n",
    "    add_start_index=True,  # Add start index to each chunk\n",
    "    separators=[\"\\n\\n\", \"\\n\", \" \", \"\"]  # Use multiple separators for splitting\n",
    ")\n",
    "doc = RecursiveCharacterTextSplitter.split_text(text)\n",
    "print(doc)\n",
    "print(f\"First chunk: {doc[0][:100]}...\")  # Print first 100 characters of the first chunk\n",
    "print(f\"Number of chunks: {len(doc)}\")  # Print number of chunks created    \n",
    "print(f\"second chunk : {doc[1][:100]}\")  # Print first 100 characters of the second chunk\n",
    "for i, doc in enumerate(doc):\n",
    "    print(f\"Chunk {i+1}:\")\n",
    "    print(f\"Content: {doc[:100]}...\")  # Print first 100 characters of each chunk\n",
    "    print(\"-\" * 40)\n",
    "\n"
   ]
  },
  {
   "cell_type": "code",
   "execution_count": 79,
   "id": "60bcdc76",
   "metadata": {},
   "outputs": [
    {
     "name": "stdout",
     "output_type": "stream",
     "text": [
      "['\\nLet’s talk about MCP server — but just to clarify, \"MCP\" can mean di    fferent things depending on context (networking, Splunk, databases, gaming, etc.).\\nI’ll', ', gaming, etc.).\\nI’ll give you a breakdown of the most common meanings, and you can tell me which one you’re after:\\n\\n1. MCP in Splunk / Observability Context\\n\\nMCP', ' Splunk / Observability Context\\n\\nMCP (Mission Control Platform) is sometimes used to describe Splunk’s centralized server/service orchestration in SOAR or Observability products.\\n\\nIt acts like a control plane — managing data', '\\nIt acts like a control plane — managing data flows, orchestration of tasks, and communication between distributed components.\\n\\nThink of it as the \"brain\" that schedules and directs activity across different Splunk instances.\\n\\n🔹 2', ' Splunk instances.\\n\\n🔹 2. MCP in Networking (Media Control Protocol / Management Control Protocol)\\n\\nIn networking, MCP often refers to Management Control Protocols or Media Control Protocols.\\n\\nExample: P', ' Media Control Protocols.\\n\\nExample: PPP (Point-to-Point Protocol) has multiple MCPs that negotiate features like IP, IPv6, authentication, compression, etc.\\n\\nAn MCP server in this sense manages those', '\\nAn MCP server in this sense manages those negotiations or acts as a control endpoint.\\n\\n🔹 3. MCP in Gaming (Minecraft Server Context)\\n\\nSometimes \"MCP\" is shorthand for Minecraft Coder Pack or Minecraft', '\" is shorthand for Minecraft Coder Pack or Minecraft Protocol.\\n\\nAn MCP server could mean a Minecraft Protocol-compatible server, which implements the game’s networking protocol without running the official Mojang server software (common in custom server projects', ' Mojang server software (common in custom server projects).\\n\\n🔹 4. MCP in Enterprise Systems\\n\\nSome vendors use MCP = Master Control Program (borrowed from TRON 😅).\\n\\nIt refers to the', 'ON 😅).\\n\\nIt refers to the main orchestration/control server in large enterprise setups that coordinates sub-systems.\\n\\n👉 To guide better:\\nDo you mean MCP server in Splunk/observability,', 'CP server in Splunk/observability, in networking protocols, or in gaming (Minecraft)?\\n']\n",
      "First chunk: \n",
      "Let’s talk about MCP server — but just to clarify, \"MCP\" can mean di    fferent things depending on...\n",
      "Number of chunks: 11\n"
     ]
    }
   ],
   "source": [
    "#Method 3 TokenTextSplitter\n",
    "\n",
    "from langchain.text_splitter import(\n",
    "    RecursiveCharacterTextSplitter,\n",
    "    CharacterTextSplitter,\n",
    "    MarkdownHeaderTextSplitter,\n",
    "    MarkdownTextSplitter,\n",
    "    TextSplitter,\n",
    "    TokenTextSplitter\n",
    ")\n",
    "TokenSplitter = TokenTextSplitter(\n",
    "    chunk_size=50,  # Maximum size of each chunk in tokens\n",
    "    chunk_overlap=10,  # Overlap between chunks in tokens\n",
    ")\n",
    "doc = TokenSplitter.split_text(text)\n",
    "print(doc)\n",
    "print(f\"First chunk: {doc[0][:100]}...\")  # Print first 100 characters of the first chunk\n",
    "print(f\"Number of chunks: {len(doc)}\")  # Print number of chunks created"
   ]
  }
 ],
 "metadata": {
  "kernelspec": {
   "display_name": "RAG-BootCamp",
   "language": "python",
   "name": "python3"
  },
  "language_info": {
   "codemirror_mode": {
    "name": "ipython",
    "version": 3
   },
   "file_extension": ".py",
   "mimetype": "text/x-python",
   "name": "python",
   "nbconvert_exporter": "python",
   "pygments_lexer": "ipython3",
   "version": "3.12.7"
  }
 },
 "nbformat": 4,
 "nbformat_minor": 5
}
