{
 "cells": [
  {
   "cell_type": "markdown",
   "id": "322a8abf",
   "metadata": {},
   "source": [
    "### SQL DATA BASES "
   ]
  },
  {
   "cell_type": "markdown",
   "id": "f47ca8b1",
   "metadata": {},
   "source": []
  },
  {
   "cell_type": "code",
   "execution_count": 1,
   "id": "94b1a78d",
   "metadata": {},
   "outputs": [],
   "source": [
    "## CREATE SIMPLE SQLITE DATA BASE\n",
    "import sqlite3\n",
    "import os\n",
    "os.makedirs('data/databases', exist_ok=True)\n"
   ]
  },
  {
   "cell_type": "code",
   "execution_count": 2,
   "id": "10ac2334",
   "metadata": {},
   "outputs": [],
   "source": [
    "conn = sqlite3.connect('data/databases/sample.db')\n",
    "cursor = conn.cursor()"
   ]
  }
 ],
 "metadata": {
  "kernelspec": {
   "display_name": "RAG-BootCamp",
   "language": "python",
   "name": "python3"
  },
  "language_info": {
   "codemirror_mode": {
    "name": "ipython",
    "version": 3
   },
   "file_extension": ".py",
   "mimetype": "text/x-python",
   "name": "python",
   "nbconvert_exporter": "python",
   "pygments_lexer": "ipython3",
   "version": "3.12.7"
  }
 },
 "nbformat": 4,
 "nbformat_minor": 5
}
