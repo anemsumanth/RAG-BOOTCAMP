{
 "cells": [
  {
   "cell_type": "markdown",
   "id": "94fd33f8",
   "metadata": {},
   "source": [
    "### Word document processing "
   ]
  },
  {
   "cell_type": "code",
   "execution_count": 9,
   "id": "0bafc2b3",
   "metadata": {},
   "outputs": [],
   "source": [
    "from docx import Document as DocxDocument\n",
    "from docx2txt import process as docx2txt_process\n",
    "import os\n",
    "\n",
    "from langchain_community.document_loaders import Docx2txtLoader, UnstructuredWordDocumentLoader\n"
   ]
  },
  {
   "cell_type": "code",
   "execution_count": null,
   "id": "ccd3e132",
   "metadata": {},
   "outputs": [
    {
     "name": "stdout",
     "output_type": "stream",
     "text": [
      "Using DocxLoader from LangChain Community\n",
      "Loaded 1 documents using Docx2txtLoader\n",
      "Sumanth Anem\n",
      "\n",
      "\n",
      "\n",
      "anem.sumanth@gmail.com\n",
      "\n",
      "+91 88016 25499\n",
      "\n",
      "   linkedin.com/in/anemsumanth\n",
      "\n",
      "\n",
      "\n",
      "\n",
      "\n",
      "Summary\n",
      "\n",
      "\n",
      "\n",
      "Over 2.10 years of experience in systems administration, ITIL process, CI/CD implementation, AWS cloud, software development, Application Production Support, Monitoring and maintaining large-scale services with various underlying dependencies\n",
      "\n",
      "\n",
      "\n",
      "Technical skills:\n",
      "\n",
      "\n",
      "\n",
      "\tCloud computing: AWS\n",
      "\n",
      "\tApplication containers: Docker\n",
      "\n",
      "\tVersion control system: GIT\n",
      "\n",
      "\tContinuous Integration / Continuous Delive\n",
      "{'source': 'data/word_files/SumanthAnem-WellsFargo.docx'}\n",
      "Document loaded successfully with Docx2txtLoader\n"
     ]
    }
   ],
   "source": [
    "##Method 1: Using `Docx2txtLoader` from LangChain Community\n",
    "print(\"Using Docx2txtLoader from LangChain Community\")\n",
    "\n",
    "try:\n",
    "    docx_loader = Docx2txtLoader(\"data/word_files/SumanthAnem-WellsFargo.docx\")\n",
    "    docx_documents = docx_loader.load()\n",
    "    print(f\"Loaded {len(docx_documents)} documents using Docx2txtLoader\")\n",
    "    print(docx_documents[0].page_content[:500])  # Print first 500 characters of the first document\n",
    "    print(docx_documents[0].metadata)  # Print metadata of the first document\n",
    "    print(\"Document loaded successfully with Docx2txtLoader\")\n",
    "except Exception as e:\n",
    "    print(f\"Error loading documents with Docx2txtLoader: {e}\")"
   ]
  },
  {
   "cell_type": "code",
   "execution_count": 17,
   "id": "954ae42f",
   "metadata": {},
   "outputs": [
    {
     "name": "stdout",
     "output_type": "stream",
     "text": [
      "Using UnstructuredWordDocumentLoader from LangChain Community\n",
      "Loaded 1 documents using UnstructuredWordDocumentLoader\n",
      "Sumanth Anem\n",
      "\n",
      "anem.sumanth@gmail.com +91 88016 25499\n",
      "\n",
      "   linkedin.com/in/anemsumanth\n",
      "\n",
      "Summary\n",
      "\n",
      "Over 2.10 years of experience in systems administration, ITIL process, CI/CD implementation, AWS cloud, software development, Application Production Support, Monitoring and maintaining large-scale services with various underlying dependencies\n",
      "\n",
      "Technical skills:\n",
      "\n",
      "Cloud computing: AWS\n",
      "\n",
      "Application containers: Docker\n",
      "\n",
      "Version control system: GIT\n",
      "\n",
      "Continuous Integration / Continuous Delivery processes and \n",
      "{'source': 'data/word_files/SumanthAnem-WellsFargo.docx'}\n",
      "Document loaded successfully with UnstructuredWordDocumentLoader\n"
     ]
    }
   ],
   "source": [
    "from docx import Document as DocxDocument\n",
    "from docx2txt import process as docx2txt_process\n",
    "import os\n",
    "\n",
    "from langchain_community.document_loaders import Docx2txtLoader, UnstructuredWordDocumentLoader\n",
    "\n",
    "try:\n",
    "    # Method 2: Using UnstructuredWordDocumentLoader from LangChain Community\n",
    "    print(\"Using UnstructuredWordDocumentLoader from LangChain Community\")\n",
    "    \n",
    "    unstructured_loader = UnstructuredWordDocumentLoader(\"data/word_files/SumanthAnem-WellsFargo.docx\")\n",
    "    unstructured_documents = unstructured_loader.load()\n",
    "    print(f\"Loaded {len(unstructured_documents)} documents using UnstructuredWordDocumentLoader\")\n",
    "    print(unstructured_documents[0].page_content[:500])  # Print first 500 characters of the first document\n",
    "    print(unstructured_documents[0].metadata)  # Print metadata of the first document\n",
    "except Exception as e:\n",
    "    print(f\"Error loading documents with UnstructuredWordDocumentLoader: {e}\")\n",
    "\n",
    "print(\"Document loaded successfully with UnstructuredWordDocumentLoader\")\n",
    "\n"
   ]
  },
  {
   "cell_type": "code",
   "execution_count": 19,
   "id": "e79baaa7",
   "metadata": {},
   "outputs": [
    {
     "name": "stdout",
     "output_type": "stream",
     "text": [
      "Using UnstructuredWordDocumentLoader with mode='elements'\n",
      "Loaded 59 documents using UnstructuredWordDocumentLoader with mode='elements'\n",
      "Sumanth Anem\n",
      "{'source': 'data/word_files/SumanthAnem-WellsFargo.docx', 'category_depth': 0, 'file_directory': 'data/word_files', 'filename': 'SumanthAnem-WellsFargo.docx', 'last_modified': '2020-02-12T00:14:18', 'page_number': 1, 'languages': ['eng'], 'filetype': 'application/vnd.openxmlformats-officedocument.wordprocessingml.document', 'category': 'Title', 'element_id': '7b7546070b4bfa18356be009d3d439e0'}\n",
      "Element 1:\n",
      "Element type: Title\n",
      "Content: Sumanth Anem\n",
      "Element 2:\n",
      "Element type: Table\n",
      "Content: anem.sumanth@gmail.com +91 88016 25499\n",
      "Element 3:\n",
      "Element type: Title\n",
      "Content:    linkedin.com/in/anemsumanth\n",
      "Document loaded successfully with UnstructuredWordDocumentLoader with mode='elements'\n"
     ]
    }
   ],
   "source": [
    "\n",
    "\n",
    "# Method 3: Using UnstructuredWordDocumentLoader with mode=\"elements\"\n",
    "print(\"Using UnstructuredWordDocumentLoader with mode='elements'\")  \n",
    "try:\n",
    "    unstructured_elements_loader = UnstructuredWordDocumentLoader(\"data/word_files/SumanthAnem-WellsFargo.docx\", mode=\"elements\")\n",
    "    unstructured_elements_documents = unstructured_elements_loader.load()\n",
    "    print(f\"Loaded {len(unstructured_elements_documents)} documents using UnstructuredWordDocumentLoader with mode='elements'\")\n",
    "    print(unstructured_elements_documents[0].page_content[:500])  # Print first 500 characters of the first document\n",
    "    print(unstructured_elements_documents[0].metadata)  # Print metadata of the first document\n",
    "    for element, doc in enumerate(unstructured_elements_documents[:3]):\n",
    "            print(f\"Element {element+1}:\")\n",
    "            print(f\"Element type: {doc.metadata.get('category','unknown')}\")\n",
    "            print(f\"Content: {doc.page_content[:500]}\")\n",
    "except Exception as e:\n",
    "    print(f\"Error loading documents with UnstructuredWordDocumentLoader with mode='elements': {e}\")\n",
    "print(\"Document loaded successfully with UnstructuredWordDocumentLoader with mode='elements'\")\n"
   ]
  },
  {
   "cell_type": "code",
   "execution_count": 18,
   "id": "160ee284",
   "metadata": {},
   "outputs": [
    {
     "name": "stdout",
     "output_type": "stream",
     "text": [
      "Using UnstructuredWordDocumentLoader with mode='elements' and additional parameters\n",
      "Loaded 59 documents using UnstructuredWordDocumentLoader with mode='elements' and additional parameters\n",
      "Sumanth Anem\n",
      "{'source': 'data/word_files/SumanthAnem-WellsFargo.docx', 'category_depth': 0, 'file_directory': 'data/word_files', 'filename': 'SumanthAnem-WellsFargo.docx', 'last_modified': '2020-02-12T00:14:18', 'page_number': 1, 'languages': ['eng'], 'filetype': 'application/vnd.openxmlformats-officedocument.wordprocessingml.document', 'category': 'Title', 'element_id': '7b7546070b4bfa18356be009d3d439e0'}\n",
      "Document loaded successfully with UnstructuredWordDocumentLoader with mode='elements' and additional parameters\n"
     ]
    }
   ],
   "source": [
    "\n",
    "# Method 4: Using UnstructuredWordDocumentLoader with mode=\"elements\" and additional parameters\n",
    "print(\"Using UnstructuredWordDocumentLoader with mode='elements' and additional parameters\")\n",
    "try:\n",
    "    unstructured_elements_loader = UnstructuredWordDocumentLoader(\n",
    "        \"data/word_files/SumanthAnem-WellsFargo.docx\",\n",
    "        mode=\"elements\",\n",
    "        additional_kwargs={\"include_metadata\": True, \"include_text\": True}\n",
    "    )\n",
    "    unstructured_elements_documents = unstructured_elements_loader.load()\n",
    "    print(f\"Loaded {len(unstructured_elements_documents)} documents using UnstructuredWordDocumentLoader with mode='elements' and additional parameters\")\n",
    "    print(unstructured_elements_documents[0].page_content[:500])  # Print first 500 characters of the first document\n",
    "    print(unstructured_elements_documents[0].metadata)  # Print metadata of the first document\n",
    "except Exception as e:\n",
    "    print(f\"Error loading documents with UnstructuredWordDocumentLoader with mode='elements' and additional parameters: {e}\")\n",
    "print(\"Document loaded successfully with UnstructuredWordDocumentLoader with mode='elements' and additional parameters\")\n",
    "\n",
    "\n"
   ]
  }
 ],
 "metadata": {
  "kernelspec": {
   "display_name": "RAG-BootCamp",
   "language": "python",
   "name": "python3"
  },
  "language_info": {
   "codemirror_mode": {
    "name": "ipython",
    "version": 3
   },
   "file_extension": ".py",
   "mimetype": "text/x-python",
   "name": "python",
   "nbconvert_exporter": "python",
   "pygments_lexer": "ipython3",
   "version": "3.12.7"
  }
 },
 "nbformat": 4,
 "nbformat_minor": 5
}
